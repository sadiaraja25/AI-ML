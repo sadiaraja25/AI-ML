{
 "cells": [
  {
   "cell_type": "code",
   "execution_count": 1,
   "id": "718ae871-f5fb-4969-8d01-e95779150882",
   "metadata": {},
   "outputs": [],
   "source": [
    "import pandas as pd\n",
    "import numpy as np"
   ]
  },
  {
   "cell_type": "code",
   "execution_count": 2,
   "id": "17ce8394-6649-4800-b3f8-3ce94a34a220",
   "metadata": {},
   "outputs": [],
   "source": [
    "heart_data = pd.read_csv('stroke-data.csv')\n",
    "heart_data.drop_duplicates(inplace=True)\n",
    "heart_data.dropna(axis=0, inplace=True)"
   ]
  },
  {
   "cell_type": "code",
   "execution_count": 3,
   "id": "b1dd5771-697d-4d59-a32a-92533e875818",
   "metadata": {},
   "outputs": [],
   "source": [
    "heart_data = heart_data.drop('id' , axis=1)"
   ]
  },
  {
   "cell_type": "code",
   "execution_count": 4,
   "id": "b70d1996-e67b-410c-8fe4-ac10868ec0a5",
   "metadata": {},
   "outputs": [],
   "source": [
    "\n",
    "heart_data['bmi'] = heart_data['bmi'].replace('N/A', np.nan)\n",
    "heart_data['bmi'] = pd.to_numeric(heart_data['bmi'])\n",
    "heart_data['bmi'] = heart_data['bmi'].fillna(heart_data['bmi'].mean())\n"
   ]
  },
  {
   "cell_type": "code",
   "execution_count": 5,
   "id": "b78d8eef-cb34-46c1-acf1-3efe838c2143",
   "metadata": {},
   "outputs": [
    {
     "name": "stdout",
     "output_type": "stream",
     "text": [
      "<class 'pandas.core.frame.DataFrame'>\n",
      "Index: 4909 entries, 0 to 5109\n",
      "Data columns (total 11 columns):\n",
      " #   Column             Non-Null Count  Dtype  \n",
      "---  ------             --------------  -----  \n",
      " 0   gender             4909 non-null   object \n",
      " 1   age                4909 non-null   float64\n",
      " 2   hypertension       4909 non-null   int64  \n",
      " 3   heart_disease      4909 non-null   int64  \n",
      " 4   ever_married       4909 non-null   object \n",
      " 5   work_type          4909 non-null   object \n",
      " 6   Residence_type     4909 non-null   object \n",
      " 7   avg_glucose_level  4909 non-null   float64\n",
      " 8   bmi                4909 non-null   float64\n",
      " 9   smoking_status     4909 non-null   object \n",
      " 10  stroke             4909 non-null   int64  \n",
      "dtypes: float64(3), int64(3), object(5)\n",
      "memory usage: 460.2+ KB\n"
     ]
    }
   ],
   "source": [
    "heart_data.info()"
   ]
  },
  {
   "cell_type": "code",
   "execution_count": 6,
   "id": "140a41cf-3b59-449d-b2d3-f5b6dc06ce8d",
   "metadata": {},
   "outputs": [
    {
     "data": {
      "text/html": [
       "<div>\n",
       "<style scoped>\n",
       "    .dataframe tbody tr th:only-of-type {\n",
       "        vertical-align: middle;\n",
       "    }\n",
       "\n",
       "    .dataframe tbody tr th {\n",
       "        vertical-align: top;\n",
       "    }\n",
       "\n",
       "    .dataframe thead th {\n",
       "        text-align: right;\n",
       "    }\n",
       "</style>\n",
       "<table border=\"1\" class=\"dataframe\">\n",
       "  <thead>\n",
       "    <tr style=\"text-align: right;\">\n",
       "      <th></th>\n",
       "      <th>gender</th>\n",
       "      <th>age</th>\n",
       "      <th>hypertension</th>\n",
       "      <th>heart_disease</th>\n",
       "      <th>ever_married</th>\n",
       "      <th>work_type</th>\n",
       "      <th>Residence_type</th>\n",
       "      <th>avg_glucose_level</th>\n",
       "      <th>bmi</th>\n",
       "      <th>smoking_status</th>\n",
       "      <th>stroke</th>\n",
       "    </tr>\n",
       "  </thead>\n",
       "  <tbody>\n",
       "    <tr>\n",
       "      <th>0</th>\n",
       "      <td>Male</td>\n",
       "      <td>67.0</td>\n",
       "      <td>0</td>\n",
       "      <td>1</td>\n",
       "      <td>Yes</td>\n",
       "      <td>Private</td>\n",
       "      <td>Urban</td>\n",
       "      <td>228.69</td>\n",
       "      <td>36.6</td>\n",
       "      <td>formerly smoked</td>\n",
       "      <td>1</td>\n",
       "    </tr>\n",
       "    <tr>\n",
       "      <th>2</th>\n",
       "      <td>Male</td>\n",
       "      <td>80.0</td>\n",
       "      <td>0</td>\n",
       "      <td>1</td>\n",
       "      <td>Yes</td>\n",
       "      <td>Private</td>\n",
       "      <td>Rural</td>\n",
       "      <td>105.92</td>\n",
       "      <td>32.5</td>\n",
       "      <td>never smoked</td>\n",
       "      <td>1</td>\n",
       "    </tr>\n",
       "    <tr>\n",
       "      <th>3</th>\n",
       "      <td>Female</td>\n",
       "      <td>49.0</td>\n",
       "      <td>0</td>\n",
       "      <td>0</td>\n",
       "      <td>Yes</td>\n",
       "      <td>Private</td>\n",
       "      <td>Urban</td>\n",
       "      <td>171.23</td>\n",
       "      <td>34.4</td>\n",
       "      <td>smokes</td>\n",
       "      <td>1</td>\n",
       "    </tr>\n",
       "    <tr>\n",
       "      <th>4</th>\n",
       "      <td>Female</td>\n",
       "      <td>79.0</td>\n",
       "      <td>1</td>\n",
       "      <td>0</td>\n",
       "      <td>Yes</td>\n",
       "      <td>Self-employed</td>\n",
       "      <td>Rural</td>\n",
       "      <td>174.12</td>\n",
       "      <td>24.0</td>\n",
       "      <td>never smoked</td>\n",
       "      <td>1</td>\n",
       "    </tr>\n",
       "    <tr>\n",
       "      <th>5</th>\n",
       "      <td>Male</td>\n",
       "      <td>81.0</td>\n",
       "      <td>0</td>\n",
       "      <td>0</td>\n",
       "      <td>Yes</td>\n",
       "      <td>Private</td>\n",
       "      <td>Urban</td>\n",
       "      <td>186.21</td>\n",
       "      <td>29.0</td>\n",
       "      <td>formerly smoked</td>\n",
       "      <td>1</td>\n",
       "    </tr>\n",
       "  </tbody>\n",
       "</table>\n",
       "</div>"
      ],
      "text/plain": [
       "   gender   age  hypertension  heart_disease ever_married      work_type  \\\n",
       "0    Male  67.0             0              1          Yes        Private   \n",
       "2    Male  80.0             0              1          Yes        Private   \n",
       "3  Female  49.0             0              0          Yes        Private   \n",
       "4  Female  79.0             1              0          Yes  Self-employed   \n",
       "5    Male  81.0             0              0          Yes        Private   \n",
       "\n",
       "  Residence_type  avg_glucose_level   bmi   smoking_status  stroke  \n",
       "0          Urban             228.69  36.6  formerly smoked       1  \n",
       "2          Rural             105.92  32.5     never smoked       1  \n",
       "3          Urban             171.23  34.4           smokes       1  \n",
       "4          Rural             174.12  24.0     never smoked       1  \n",
       "5          Urban             186.21  29.0  formerly smoked       1  "
      ]
     },
     "execution_count": 6,
     "metadata": {},
     "output_type": "execute_result"
    }
   ],
   "source": [
    "heart_data.head()"
   ]
  },
  {
   "cell_type": "code",
   "execution_count": 7,
   "id": "38440076-fcb3-46a3-89a4-862bac14efba",
   "metadata": {},
   "outputs": [],
   "source": [
    "heart_data = pd.get_dummies(heart_data , columns = ['gender' , 'ever_married' , 'work_type' , 'Residence_type' ,'smoking_status'], drop_first = True) "
   ]
  },
  {
   "cell_type": "code",
   "execution_count": 8,
   "id": "b90f3908-4bc9-4c56-a0b4-30c33465c1d7",
   "metadata": {},
   "outputs": [],
   "source": [
    "heart_data['stroke'] =heart_data['stroke'].astype(int)"
   ]
  },
  {
   "cell_type": "code",
   "execution_count": 9,
   "id": "7788f3a0-14c1-430a-87b4-e158d924dabf",
   "metadata": {},
   "outputs": [],
   "source": [
    "import matplotlib.pyplot as plt\n",
    "import seaborn as sns"
   ]
  },
  {
   "cell_type": "code",
   "execution_count": 10,
   "id": "decadc11-b803-45fe-a8c4-4237d72b96cc",
   "metadata": {
    "scrolled": true
   },
   "outputs": [
    {
     "name": "stdout",
     "output_type": "stream",
     "text": [
      "stroke\n",
      "0    4700\n",
      "1     209\n",
      "Name: count, dtype: int64\n",
      "Class distribution %:\n",
      "stroke\n",
      "0    95.742514\n",
      "1     4.257486\n",
      "Name: count, dtype: float64\n"
     ]
    },
    {
     "data": {
      "image/png": "[encoded data removed]",
      "text/plain": [
       "<Figure size 640x480 with 1 Axes>"
      ]
     },
     "metadata": {},
     "output_type": "display_data"
    }
   ],
   "source": [
    "stroke_counts = heart_data['stroke'].value_counts()\n",
    "print(stroke_counts)\n",
    "print(\"Class distribution %:\")\n",
    "print(stroke_counts/ len(heart_data) * 100)\n",
    "sns.countplot( x ='stroke' , data=heart_data)\n",
    "plt.title(\"Class Distribution\")\n",
    "plt.show()"
   ]
  },
  {
   "cell_type": "code",
   "execution_count": 11,
   "id": "048ae3d0-6786-4f31-b011-f485473bba69",
   "metadata": {},
   "outputs": [],
   "source": [
    "bins = [0, 18, 40, 60, 100]\n",
    "labels = ['Child', 'YoungAdult', 'Adult', 'Senior']\n",
    "heart_data['age_group'] = pd.cut(heart_data['age'], bins=bins, labels=labels)\n",
    "heart_data = pd.get_dummies(heart_data, columns=['age_group'], drop_first=True)\n"
   ]
  },
  {
   "cell_type": "code",
   "execution_count": 12,
   "id": "15772b1a-b6ba-4a4f-b815-be29de848ae6",
   "metadata": {},
   "outputs": [],
   "source": [
    "import numpy as np\n",
    "\n",
    "heart_data['log_glucose'] = np.log1p(heart_data['avg_glucose_level']) \n"
   ]
  },
  {
   "cell_type": "code",
   "execution_count": 13,
   "id": "daf92b73-9286-4d58-af4a-63cdaaaaee93",
   "metadata": {},
   "outputs": [],
   "source": [
    "heart_data['age_glucose_level'] = heart_data['age'] * heart_data['avg_glucose_level']\n",
    "heart_data['htn_hd_combo'] = heart_data['hypertension'] + heart_data['heart_disease']"
   ]
  },
  {
   "cell_type": "code",
   "execution_count": 14,
   "id": "684fcfa9-43e0-440f-8492-77b95e9c08f3",
   "metadata": {},
   "outputs": [],
   "source": [
    "from sklearn.preprocessing import StandardScaler\n",
    "\n",
    "scaler = StandardScaler()\n",
    "heart_data[['age', 'avg_glucos', 'bmi']] = scaler.fit_transform(heart_data[['age', 'avg_glucose_level', 'bmi']])\n"
   ]
  },
  {
   "cell_type": "code",
   "execution_count": 15,
   "id": "2a5793a1-bb89-44a3-8090-cf1ccfbeaf3f",
   "metadata": {},
   "outputs": [],
   "source": [
    "from sklearn.model_selection import train_test_split\n",
    "from imblearn.over_sampling import SMOTE\n",
    "X = heart_data.drop('stroke', axis =1 )\n",
    "y = heart_data['stroke']\n",
    "X_train, X_test, y_train, y_test = train_test_split(X, y, test_size = 0.2 , random_state = 40)\n",
    "smote = SMOTE(random_state =42)\n",
    "X_train_bal , y_train_bal = smote.fit_resample(X_train, y_train)"
   ]
  },
  {
   "cell_type": "code",
   "execution_count": 16,
   "id": "fa08ecf7-1d25-447b-88f8-5061f960401d",
   "metadata": {},
   "outputs": [],
   "source": [
    "def evaluate_model(model, X_test, y_test):\n",
    "    y_pred = model.predict(X_test)\n",
    "    y_proba = model.predict_proba(X_test)[:, 1]\n",
    "\n",
    "    print(\"Accuracy:\", accuracy_score(y_test, y_pred))\n",
    "    print(\"Precision:\", precision_score(y_test, y_pred))\n",
    "    print(\"Recall:\", recall_score(y_test, y_pred))\n",
    "    print(\"F1 Score:\", f1_score(y_test, y_pred))\n",
    "    print(\"ROC AUC:\", roc_auc_score(y_test, y_proba))\n",
    "    print(\"\\nClassification Report:\\n\", classification_report(y_test, y_pred))\n",
    "\n",
    "    ConfusionMatrixDisplay(confusion_matrix(y_test, y_pred)).plot()\n"
   ]
  },
  {
   "cell_type": "code",
   "execution_count": 17,
   "id": "92c73b2c-f373-40e6-9419-120bea0414c6",
   "metadata": {},
   "outputs": [
    {
     "name": "stderr",
     "output_type": "stream",
     "text": [
      "C:\\Users\\kingl\\anaconda3\\Lib\\site-packages\\sklearn\\linear_model\\_logistic.py:469: ConvergenceWarning: lbfgs failed to converge (status=1):\n",
      "STOP: TOTAL NO. of ITERATIONS REACHED LIMIT.\n",
      "\n",
      "Increase the number of iterations (max_iter) or scale the data as shown in:\n",
      "    https://scikit-learn.org/stable/modules/preprocessing.html\n",
      "Please also refer to the documentation for alternative solver options:\n",
      "    https://scikit-learn.org/stable/modules/linear_model.html#logistic-regression\n",
      "  n_iter_i = _check_optimize_result(\n"
     ]
    },
    {
     "name": "stdout",
     "output_type": "stream",
     "text": [
      "Accuracy: 0.8890020366598778\n",
      "Precision: 0.10989010989010989\n",
      "Recall: 0.2631578947368421\n",
      "F1 Score: 0.15503875968992248\n",
      "ROC AUC: 0.7341659232827833\n",
      "\n",
      "Classification Report:\n",
      "               precision    recall  f1-score   support\n",
      "\n",
      "           0       0.97      0.91      0.94       944\n",
      "           1       0.11      0.26      0.16        38\n",
      "\n",
      "    accuracy                           0.89       982\n",
      "   macro avg       0.54      0.59      0.55       982\n",
      "weighted avg       0.94      0.89      0.91       982\n",
      "\n"
     ]
    },
    {
     "data": {
      "image/png": "[encoded data removed]",
      "text/plain": [
       "<Figure size 640x480 with 2 Axes>"
      ]
     },
     "metadata": {},
     "output_type": "display_data"
    }
   ],
   "source": [
    "from sklearn.linear_model import LogisticRegression\n",
    "from sklearn.metrics import accuracy_score, precision_score, recall_score, f1_score, roc_auc_score, classification_report, confusion_matrix, ConfusionMatrixDisplay\n",
    "\n",
    "# Train & Evaluate\n",
    "model_log_reg = LogisticRegression(max_iter=1000)\n",
    "model_log_reg.fit(X_train_bal, y_train_bal)\n",
    "evaluate_model(model_log_reg, X_test, y_test)\n"
   ]
  },
  {
   "cell_type": "code",
   "execution_count": 18,
   "id": "5cb148b7-da6a-47ac-aa8e-5440271fa672",
   "metadata": {},
   "outputs": [
    {
     "name": "stdout",
     "output_type": "stream",
     "text": [
      "Accuracy: 0.905295315682281\n",
      "Precision: 0.07692307692307693\n",
      "Recall: 0.13157894736842105\n",
      "F1 Score: 0.0970873786407767\n",
      "ROC AUC: 0.5340098126672613\n",
      "\n",
      "Classification Report:\n",
      "               precision    recall  f1-score   support\n",
      "\n",
      "           0       0.96      0.94      0.95       944\n",
      "           1       0.08      0.13      0.10        38\n",
      "\n",
      "    accuracy                           0.91       982\n",
      "   macro avg       0.52      0.53      0.52       982\n",
      "weighted avg       0.93      0.91      0.92       982\n",
      "\n"
     ]
    },
    {
     "data": {
      "image/png": "[encoded data removed]",
      "text/plain": [
       "<Figure size 640x480 with 2 Axes>"
      ]
     },
     "metadata": {},
     "output_type": "display_data"
    }
   ],
   "source": [
    "from sklearn.tree import DecisionTreeClassifier\n",
    "\n",
    "dt = DecisionTreeClassifier()\n",
    "dt.fit(X_train_bal, y_train_bal)\n",
    "evaluate_model(dt, X_test, y_test)\n"
   ]
  },
  {
   "cell_type": "code",
   "execution_count": 19,
   "id": "f163f5dc-f1c9-45a5-845a-b9935de63a7f",
   "metadata": {},
   "outputs": [
    {
     "name": "stdout",
     "output_type": "stream",
     "text": [
      "Accuracy: 0.9266802443991853\n",
      "Precision: 0.027777777777777776\n",
      "Recall: 0.02631578947368421\n",
      "F1 Score: 0.02702702702702703\n",
      "ROC AUC: 0.6995846342551293\n",
      "\n",
      "Classification Report:\n",
      "               precision    recall  f1-score   support\n",
      "\n",
      "           0       0.96      0.96      0.96       944\n",
      "           1       0.03      0.03      0.03        38\n",
      "\n",
      "    accuracy                           0.93       982\n",
      "   macro avg       0.49      0.49      0.49       982\n",
      "weighted avg       0.92      0.93      0.93       982\n",
      "\n"
     ]
    },
    {
     "data": {
      "image/png": "[encoded data removed]",
      "text/plain": [
       "<Figure size 640x480 with 2 Axes>"
      ]
     },
     "metadata": {},
     "output_type": "display_data"
    }
   ],
   "source": [
    "from sklearn.ensemble import RandomForestClassifier\n",
    "\n",
    "rf = RandomForestClassifier()\n",
    "rf.fit(X_train_bal, y_train_bal)\n",
    "evaluate_model(rf, X_test, y_test)\n"
   ]
  },
  {
   "cell_type": "code",
   "execution_count": 20,
   "id": "5061533c-afda-4d77-a493-a12e2a8f2f78",
   "metadata": {},
   "outputs": [
    {
     "name": "stdout",
     "output_type": "stream",
     "text": [
      "Accuracy: 0.7240325865580448\n",
      "Precision: 0.08540925266903915\n",
      "Recall: 0.631578947368421\n",
      "F1 Score: 0.15047021943573669\n",
      "ROC AUC: 0.7487734165923282\n",
      "\n",
      "Classification Report:\n",
      "               precision    recall  f1-score   support\n",
      "\n",
      "           0       0.98      0.73      0.84       944\n",
      "           1       0.09      0.63      0.15        38\n",
      "\n",
      "    accuracy                           0.72       982\n",
      "   macro avg       0.53      0.68      0.49       982\n",
      "weighted avg       0.95      0.72      0.81       982\n",
      "\n"
     ]
    },
    {
     "data": {
      "image/png": "[encoded data removed]",
      "text/plain": [
       "<Figure size 640x480 with 2 Axes>"
      ]
     },
     "metadata": {},
     "output_type": "display_data"
    }
   ],
   "source": [
    "from sklearn.naive_bayes import GaussianNB\n",
    "\n",
    "nb = GaussianNB()\n",
    "nb.fit(X_train_bal, y_train_bal)\n",
    "evaluate_model(nb, X_test, y_test)\n"
   ]
  },
  {
   "cell_type": "code",
   "execution_count": 21,
   "id": "d3a584c3-8492-4db8-bdf6-fffc64581368",
   "metadata": {},
   "outputs": [
    {
     "name": "stdout",
     "output_type": "stream",
     "text": [
      "Accuracy: 0.7331975560081466\n",
      "Precision: 0.07575757575757576\n",
      "Recall: 0.5263157894736842\n",
      "F1 Score: 0.13245033112582782\n",
      "ROC AUC: 0.6842662801070473\n",
      "\n",
      "Classification Report:\n",
      "               precision    recall  f1-score   support\n",
      "\n",
      "           0       0.97      0.74      0.84       944\n",
      "           1       0.08      0.53      0.13        38\n",
      "\n",
      "    accuracy                           0.73       982\n",
      "   macro avg       0.53      0.63      0.49       982\n",
      "weighted avg       0.94      0.73      0.81       982\n",
      "\n"
     ]
    },
    {
     "data": {
      "image/png": "[encoded data removed]",
      "text/plain": [
       "<Figure size 640x480 with 2 Axes>"
      ]
     },
     "metadata": {},
     "output_type": "display_data"
    }
   ],
   "source": [
    "from sklearn.neighbors import KNeighborsClassifier\n",
    "\n",
    "knn = KNeighborsClassifier()\n",
    "knn.fit(X_train_bal, y_train_bal)\n",
    "evaluate_model(knn, X_test, y_test)\n"
   ]
  },
  {
   "cell_type": "code",
   "execution_count": 22,
   "id": "ddd4262d-35c8-4b3a-8050-f78c48f95bf5",
   "metadata": {},
   "outputs": [
    {
     "name": "stdout",
     "output_type": "stream",
     "text": [
      "Accuracy: 0.615071283095723\n",
      "Precision: 0.07711442786069651\n",
      "Recall: 0.8157894736842105\n",
      "F1 Score: 0.1409090909090909\n",
      "ROC AUC: 0.7625446030330063\n",
      "\n",
      "Classification Report:\n",
      "               precision    recall  f1-score   support\n",
      "\n",
      "           0       0.99      0.61      0.75       944\n",
      "           1       0.08      0.82      0.14        38\n",
      "\n",
      "    accuracy                           0.62       982\n",
      "   macro avg       0.53      0.71      0.45       982\n",
      "weighted avg       0.95      0.62      0.73       982\n",
      "\n"
     ]
    },
    {
     "data": {
      "image/png": "[encoded data removed]",
      "text/plain": [
       "<Figure size 640x480 with 2 Axes>"
      ]
     },
     "metadata": {},
     "output_type": "display_data"
    }
   ],
   "source": [
    "from sklearn.svm import SVC\n",
    "\n",
    "svm = SVC(probability=True)  \n",
    "svm.fit(X_train_bal, y_train_bal)\n",
    "evaluate_model(svm, X_test, y_test)\n"
   ]
  },
  {
   "cell_type": "code",
   "execution_count": 23,
   "id": "9d7661e1-2e7f-4546-9118-fc4445f267b0",
   "metadata": {},
   "outputs": [],
   "source": [
    "heart_data.to_csv('cleaned_heart_data.csv', index=False)\n"
   ]
  },
  {
   "cell_type": "code",
   "execution_count": 24,
   "id": "9dd06a4d-cd02-4fe0-a19b-e1add41ed974",
   "metadata": {},
   "outputs": [],
   "source": [
    "from sklearn.metrics import accuracy_score, precision_score, recall_score, f1_score, roc_auc_score\n",
    "\n",
    "def evaluate_model(model, X_test, y_test):\n",
    "    y_pred = model.predict(X_test)\n",
    "    y_proba = model.predict_proba(X_test)[:, 1] if hasattr(model, \"predict_proba\") else None\n",
    "\n",
    "    return {\n",
    "        \"Accuracy\": accuracy_score(y_test, y_pred),\n",
    "        \"Precision\": precision_score(y_test, y_pred),\n",
    "        \"Recall\": recall_score(y_test, y_pred),\n",
    "        \"F1 Score\": f1_score(y_test, y_pred),\n",
    "        \"ROC AUC\": roc_auc_score(y_test, y_proba) if y_proba is not None else None\n",
    "    }\n"
   ]
  },
  {
   "cell_type": "code",
   "execution_count": 25,
   "id": "7a1ca2bd-d2c1-4ec9-9904-b597297a4675",
   "metadata": {},
   "outputs": [],
   "source": [
    "from sklearn.linear_model import LogisticRegression\n",
    "from sklearn.ensemble import RandomForestClassifier\n",
    "from sklearn.tree import DecisionTreeClassifier\n",
    "from sklearn.naive_bayes import GaussianNB\n",
    "from sklearn.neighbors import KNeighborsClassifier\n",
    "from sklearn.svm import SVC\n",
    "\n",
    "models = {\n",
    "    \"Logistic Regression\": LogisticRegression(max_iter=1000),\n",
    "    \"Random Forest\": RandomForestClassifier(),\n",
    "    \"Decision Tree\": DecisionTreeClassifier(),\n",
    "    \"Naive Bayes\": GaussianNB(),\n",
    "    \"KNN\": KNeighborsClassifier(),\n",
    "    \"SVM (probability=True)\": SVC(probability=True)\n",
    "}\n"
   ]
  },
  {
   "cell_type": "code",
   "execution_count": 26,
   "id": "5e29a56b-ba54-44ed-ad1c-fe0bd197db7a",
   "metadata": {},
   "outputs": [
    {
     "name": "stderr",
     "output_type": "stream",
     "text": [
      "C:\\Users\\kingl\\anaconda3\\Lib\\site-packages\\sklearn\\linear_model\\_logistic.py:469: ConvergenceWarning: lbfgs failed to converge (status=1):\n",
      "STOP: TOTAL NO. of ITERATIONS REACHED LIMIT.\n",
      "\n",
      "Increase the number of iterations (max_iter) or scale the data as shown in:\n",
      "    https://scikit-learn.org/stable/modules/preprocessing.html\n",
      "Please also refer to the documentation for alternative solver options:\n",
      "    https://scikit-learn.org/stable/modules/linear_model.html#logistic-regression\n",
      "  n_iter_i = _check_optimize_result(\n"
     ]
    }
   ],
   "source": [
    "results = {}\n",
    "\n",
    "for name, model in models.items():\n",
    "    model.fit(X_train_bal, y_train_bal)\n",
    "    metrics = evaluate_model(model, X_test, y_test)\n",
    "    results[name] = metrics\n"
   ]
  },
  {
   "cell_type": "code",
   "execution_count": 27,
   "id": "79bba5bb-c3f8-4d71-914e-837407a8660d",
   "metadata": {},
   "outputs": [
    {
     "data": {
      "text/html": [
       "<div>\n",
       "<style scoped>\n",
       "    .dataframe tbody tr th:only-of-type {\n",
       "        vertical-align: middle;\n",
       "    }\n",
       "\n",
       "    .dataframe tbody tr th {\n",
       "        vertical-align: top;\n",
       "    }\n",
       "\n",
       "    .dataframe thead th {\n",
       "        text-align: right;\n",
       "    }\n",
       "</style>\n",
       "<table border=\"1\" class=\"dataframe\">\n",
       "  <thead>\n",
       "    <tr style=\"text-align: right;\">\n",
       "      <th></th>\n",
       "      <th>Accuracy</th>\n",
       "      <th>Precision</th>\n",
       "      <th>Recall</th>\n",
       "      <th>F1 Score</th>\n",
       "      <th>ROC AUC</th>\n",
       "    </tr>\n",
       "  </thead>\n",
       "  <tbody>\n",
       "    <tr>\n",
       "      <th>Logistic Regression</th>\n",
       "      <td>0.889002</td>\n",
       "      <td>0.109890</td>\n",
       "      <td>0.263158</td>\n",
       "      <td>0.155039</td>\n",
       "      <td>0.734166</td>\n",
       "    </tr>\n",
       "    <tr>\n",
       "      <th>Naive Bayes</th>\n",
       "      <td>0.724033</td>\n",
       "      <td>0.085409</td>\n",
       "      <td>0.631579</td>\n",
       "      <td>0.150470</td>\n",
       "      <td>0.748773</td>\n",
       "    </tr>\n",
       "    <tr>\n",
       "      <th>SVM (probability=True)</th>\n",
       "      <td>0.615071</td>\n",
       "      <td>0.077114</td>\n",
       "      <td>0.815789</td>\n",
       "      <td>0.140909</td>\n",
       "      <td>0.762545</td>\n",
       "    </tr>\n",
       "    <tr>\n",
       "      <th>KNN</th>\n",
       "      <td>0.733198</td>\n",
       "      <td>0.075758</td>\n",
       "      <td>0.526316</td>\n",
       "      <td>0.132450</td>\n",
       "      <td>0.684266</td>\n",
       "    </tr>\n",
       "    <tr>\n",
       "      <th>Decision Tree</th>\n",
       "      <td>0.900204</td>\n",
       "      <td>0.058824</td>\n",
       "      <td>0.105263</td>\n",
       "      <td>0.075472</td>\n",
       "      <td>0.518733</td>\n",
       "    </tr>\n",
       "    <tr>\n",
       "      <th>Random Forest</th>\n",
       "      <td>0.928717</td>\n",
       "      <td>0.029412</td>\n",
       "      <td>0.026316</td>\n",
       "      <td>0.027778</td>\n",
       "      <td>0.686134</td>\n",
       "    </tr>\n",
       "  </tbody>\n",
       "</table>\n",
       "</div>"
      ],
      "text/plain": [
       "                        Accuracy  Precision    Recall  F1 Score   ROC AUC\n",
       "Logistic Regression     0.889002   0.109890  0.263158  0.155039  0.734166\n",
       "Naive Bayes             0.724033   0.085409  0.631579  0.150470  0.748773\n",
       "SVM (probability=True)  0.615071   0.077114  0.815789  0.140909  0.762545\n",
       "KNN                     0.733198   0.075758  0.526316  0.132450  0.684266\n",
       "Decision Tree           0.900204   0.058824  0.105263  0.075472  0.518733\n",
       "Random Forest           0.928717   0.029412  0.026316  0.027778  0.686134"
      ]
     },
     "execution_count": 27,
     "metadata": {},
     "output_type": "execute_result"
    }
   ],
   "source": [
    "results_df = pd.DataFrame(results).T  # Transpose to get models as rows\n",
    "results_df = results_df.sort_values(by='F1 Score', ascending=False)\n",
    "results_df\n"
   ]
  },
  {
   "cell_type": "code",
   "execution_count": 28,
   "id": "2a130b2c-011e-4ee5-9a1a-6f94bd4aeb56",
   "metadata": {},
   "outputs": [
    {
     "name": "stdout",
     "output_type": "stream",
     "text": [
      "Training Metrics:\n",
      "Accuracy: 0.6272\n",
      "Precision: 0.0947\n",
      "Recall: 0.8830\n",
      "F1 Score: 0.1710\n",
      "ROC AUC: 0.8100\n"
     ]
    }
   ],
   "source": [
    "from sklearn.metrics import accuracy_score, precision_score, recall_score, f1_score, roc_auc_score\n",
    "\n",
    "y_train_pred = model.predict(X_train)\n",
    "y_train_proba = model.predict_proba(X_train)[:, 1] \n",
    "\n",
    "\n",
    "train_accuracy = accuracy_score(y_train, y_train_pred)\n",
    "train_precision = precision_score(y_train, y_train_pred)\n",
    "train_recall = recall_score(y_train, y_train_pred)\n",
    "train_f1 = f1_score(y_train, y_train_pred)\n",
    "train_roc_auc = roc_auc_score(y_train, y_train_proba)\n",
    "\n",
    "print(\"Training Metrics:\")\n",
    "print(f\"Accuracy: {train_accuracy:.4f}\")\n",
    "print(f\"Precision: {train_precision:.4f}\")\n",
    "print(f\"Recall: {train_recall:.4f}\")\n",
    "print(f\"F1 Score: {train_f1:.4f}\")\n",
    "print(f\"ROC AUC: {train_roc_auc:.4f}\")\n"
   ]
  },
  {
   "cell_type": "code",
   "execution_count": 59,
   "id": "7f61e91f-3d8e-4aec-b885-6183d6d80ae1",
   "metadata": {},
   "outputs": [],
   "source": [
    "from sklearn.linear_model import LogisticRegression\n",
    "from sklearn.naive_bayes import GaussianNB\n",
    "from sklearn.svm import SVC\n",
    "from sklearn.neighbors import KNeighborsClassifier\n",
    "from sklearn.tree import DecisionTreeClassifier\n",
    "from sklearn.ensemble import RandomForestClassifier\n",
    "\n",
    "logreg = LogisticRegression()\n",
    "nb = GaussianNB()\n",
    "svm = SVC(probability=True)\n",
    "knn = KNeighborsClassifier()\n",
    "dt = DecisionTreeClassifier()\n",
    "rf = RandomForestClassifier()\n",
    "\n"
   ]
  },
  {
   "cell_type": "code",
   "execution_count": 61,
   "id": "92fe9eda-ae88-4ee2-aa85-f37e8b314d67",
   "metadata": {},
   "outputs": [
    {
     "data": {
      "text/plain": [
       "['random_forest_model.pkl']"
      ]
     },
     "execution_count": 61,
     "metadata": {},
     "output_type": "execute_result"
    }
   ],
   "source": [
    "import joblib\n",
    "\n",
    "joblib.dump(logreg, 'logistic_regression_model.pkl')\n",
    "joblib.dump(nb, 'naive_bayes_model.pkl')\n",
    "joblib.dump(svm, 'svm_model.pkl')\n",
    "joblib.dump(knn, 'knn_model.pkl')\n",
    "joblib.dump(dt, 'decision_tree_model.pkl')\n",
    "joblib.dump(rf, 'random_forest_model.pkl')\n"
   ]
  },
  {
   "cell_type": "code",
   "execution_count": null,
   "id": "2b644801-c3f2-428b-8516-5d32eed6219f",
   "metadata": {},
   "outputs": [],
   "source": []
  }
 ],
 "metadata": {
  "kernelspec": {
   "display_name": "Python [conda env:base] *",
   "language": "python",
   "name": "conda-base-py"
  },
  "language_info": {
   "codemirror_mode": {
    "name": "ipython",
    "version": 3
   },
   "file_extension": ".py",
   "mimetype": "text/x-python",
   "name": "python",
   "nbconvert_exporter": "python",
   "pygments_lexer": "ipython3",
   "version": "3.12.4"
  }
 },
 "nbformat": 4,
 "nbformat_minor": 5
}
